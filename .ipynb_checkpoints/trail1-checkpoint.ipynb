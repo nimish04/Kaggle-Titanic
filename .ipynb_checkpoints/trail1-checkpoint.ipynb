{
 "cells": [
  {
   "cell_type": "code",
   "execution_count": null,
   "metadata": {},
   "outputs": [],
   "source": [
    "import numpy as np\n",
    "import pandas as pd\n",
    "\n",
    "#This is the machine learning algorithm\n",
    "from sklearn.ensemble import RandomForestClassifier\n",
    "\n",
    "#Divides between training and test inputs to overcome overfitting\n",
    "from sklearn.model_selection import train_test_split\n",
    "\n",
    "#Removes the warnings from pandas library\n",
    "pd.options.mode.chained_assignment = None\n",
    "\n",
    "#Lets us create our own models\n",
    "from sklearn.externals import joblib\n",
    "\n",
    "data=pd.read_csv(\"train.csv\")\n",
    "data"
   ]
  }
 ],
 "metadata": {
  "kernelspec": {
   "display_name": "Python 3",
   "language": "python",
   "name": "python3"
  },
  "language_info": {
   "codemirror_mode": {
    "name": "ipython",
    "version": 3
   },
   "file_extension": ".py",
   "mimetype": "text/x-python",
   "name": "python",
   "nbconvert_exporter": "python",
   "pygments_lexer": "ipython3",
   "version": "3.6.5"
  }
 },
 "nbformat": 4,
 "nbformat_minor": 2
}
